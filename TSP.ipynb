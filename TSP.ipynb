{
 "cells": [
  {
   "cell_type": "code",
   "execution_count": 179,
   "metadata": {},
   "outputs": [],
   "source": [
    "import pandas as pd\n",
    "import numpy as np\n",
    "import random\n",
    "import operator\n",
    "import matplotlib.pyplot as plt"
   ]
  },
  {
   "cell_type": "code",
   "execution_count": 180,
   "metadata": {},
   "outputs": [],
   "source": [
    "class Population():\n",
    "    def __init__(self, bag, adjacency_mat):\n",
    "        self.bag = bag\n",
    "        self.parents = []\n",
    "        self.score = 0\n",
    "        self.best = None\n",
    "        self.adjacency_mat = adjacency_mat\n"
   ]
  },
  {
   "cell_type": "code",
   "execution_count": 181,
   "metadata": {},
   "outputs": [],
   "source": [
    "def init_population(cities, adjacency_mat, n_population):\n",
    "    return Population(\n",
    "        np.asarray([np.random.permutation(cities) for _ in range(n_population)]), \n",
    "        adjacency_mat\n",
    "    )\n"
   ]
  },
  {
   "cell_type": "code",
   "execution_count": 182,
   "metadata": {},
   "outputs": [],
   "source": [
    "def fitness(self, chromosome):\n",
    "    return sum(\n",
    "        [\n",
    "            self.adjacency_mat[chromosome[i], chromosome[i + 1]]\n",
    "            for i in range(len(chromosome) - 1)\n",
    "        ]\n",
    "    )\n",
    "\n",
    "Population.fitness = fitness\n"
   ]
  },
  {
   "cell_type": "code",
   "execution_count": 183,
   "metadata": {},
   "outputs": [],
   "source": [
    "def evaluate(self):\n",
    "    distances = np.asarray(\n",
    "        [self.fitness(chromosome) for chromosome in self.bag]\n",
    "    )\n",
    "    self.score = np.min(distances)\n",
    "    self.best = self.bag[distances.tolist().index(self.score)]\n",
    "    self.parents.append(self.best)\n",
    "    if False in (distances[0] == distances):\n",
    "        distances = np.max(distances) - distances\n",
    "    return distances / np.sum(distances)\n",
    "    \n",
    "Population.evaluate = evaluate\n"
   ]
  },
  {
   "cell_type": "code",
   "execution_count": 184,
   "metadata": {},
   "outputs": [],
   "source": [
    "def select(self, k=4):\n",
    "    fit = self.evaluate()\n",
    "    while len(self.parents) < k:\n",
    "        idx = np.random.randint(0, len(fit))\n",
    "        if fit[idx] > np.random.rand():\n",
    "            self.parents.append(self.bag[idx])\n",
    "    self.parents = np.asarray(self.parents)\n",
    "\n",
    "Population.select = select\n"
   ]
  },
  {
   "cell_type": "code",
   "execution_count": 185,
   "metadata": {},
   "outputs": [],
   "source": [
    "def swap(chromosome):\n",
    "    a, b = np.random.choice(len(chromosome), 2)\n",
    "    chromosome[a], chromosome[b] = (\n",
    "        chromosome[b],\n",
    "        chromosome[a],\n",
    "    )\n",
    "    return chromosome\n"
   ]
  },
  {
   "cell_type": "code",
   "execution_count": 186,
   "metadata": {},
   "outputs": [],
   "source": [
    "def crossover(self, p_cross=0.1):\n",
    "    children = []\n",
    "    count, size = self.parents.shape\n",
    "    for _ in range(len(self.bag)):\n",
    "        if np.random.rand() > p_cross:\n",
    "            children.append(\n",
    "                list(self.parents[np.random.randint(count, size=1)[0]])\n",
    "            )\n",
    "        else:\n",
    "            parent1, parent2 = self.parents[\n",
    "                np.random.randint(count, size=2), :\n",
    "            ]\n",
    "            idx = np.random.choice(range(size), size=2, replace=False)\n",
    "            start, end = min(idx), max(idx)\n",
    "            child = [None] * size\n",
    "            for i in range(start, end + 1, 1):\n",
    "                child[i] = parent1[i]\n",
    "            pointer = 0\n",
    "            for i in range(size):\n",
    "                if child[i] is None:\n",
    "                    while parent2[pointer] in child:\n",
    "                        pointer += 1\n",
    "                    child[i] = parent2[pointer]\n",
    "            children.append(child)\n",
    "    return children\n",
    "\n",
    "Population.crossover = crossover\n"
   ]
  },
  {
   "cell_type": "code",
   "execution_count": 187,
   "metadata": {},
   "outputs": [],
   "source": [
    "def mutate(self, p_cross=0.1, p_mut=0.1):\n",
    "    next_bag = []\n",
    "    children = self.crossover(p_cross)\n",
    "    for child in children:\n",
    "        if np.random.rand() < p_mut:\n",
    "            next_bag.append(swap(child))\n",
    "        else:\n",
    "            next_bag.append(child)\n",
    "    return next_bag\n",
    "    \n",
    "Population.mutate = mutate\n"
   ]
  },
  {
   "cell_type": "code",
   "execution_count": 188,
   "metadata": {},
   "outputs": [],
   "source": [
    "def genetic_algorithm(cities, adjacency_mat, n_population=5, n_iter=20, selectivity=0.15, p_cross=0.5, p_mut=0.1, print_interval=100, return_history=False, verbose=False):\n",
    "    \n",
    "    pop = init_population(cities, adjacency_mat, n_population)\n",
    "    best = pop.best\n",
    "    score = float(\"inf\")\n",
    "    history = []\n",
    "    for i in range(n_iter):\n",
    "        pop.select(n_population * selectivity)\n",
    "        history.append(pop.score)\n",
    "        if verbose:\n",
    "            print(f\"Generation {i}: {pop.score}\")\n",
    "        elif i % print_interval == 0:\n",
    "            print(f\"Generation {i}: {pop.score}\")\n",
    "        if pop.score < score:\n",
    "            best = pop.best\n",
    "            score = pop.score\n",
    "        children = pop.mutate(p_cross, p_mut)\n",
    "        pop = Population(children, pop.adjacency_mat)\n",
    "    if return_history:\n",
    "        return best, history\n",
    "    return best\n"
   ]
  },
  {
   "cell_type": "code",
   "execution_count": 189,
   "metadata": {},
   "outputs": [],
   "source": [
    "def generate_cities(n_cities, factor=10):\n",
    "    return np.random.rand(n_cities, 2) * n_cities * factor\n"
   ]
  },
  {
   "cell_type": "code",
   "execution_count": 190,
   "metadata": {},
   "outputs": [],
   "source": [
    "def make_mat(coordinates):\n",
    "    res = [\n",
    "        [get_distance(city1, city2) for city2 in coordinates]\n",
    "        for city1 in coordinates\n",
    "    ]\n",
    "    return np.asarray(res)\n",
    "\n",
    "def get_distance(city1, city2):\n",
    "    return np.sqrt((city1[0] - city2[0])**2 + (city1[1] - city2[1])**2)\n"
   ]
  },
  {
   "cell_type": "code",
   "execution_count": 194,
   "metadata": {},
   "outputs": [
    {
     "name": "stdout",
     "output_type": "stream",
     "text": [
      "[[689.77988274 278.55960541]\n",
      " [309.05654609 708.01966373]\n",
      " [430.75233861 965.1211777 ]\n",
      " [830.74462317 370.34852004]\n",
      " [416.6625077  642.87926834]\n",
      " [772.22429393 380.16996914]\n",
      " [743.78247904 289.7329482 ]\n",
      " [192.36462397 935.14100002]\n",
      " [754.39926338 989.08208578]\n",
      " [859.89861699 948.84855842]\n",
      " [795.96191119 379.35180746]\n",
      " [196.13003583 265.65318513]\n",
      " [335.59813706 314.9384859 ]\n",
      " [459.47084059 674.9147275 ]\n",
      " [890.63113793 125.69933685]\n",
      " [ 21.0923239  127.93192683]\n",
      " [717.49491514 723.09116762]\n",
      " [720.71022875 657.65380233]\n",
      " [916.87188768 283.15247033]\n",
      " [210.65616842 878.33887698]\n",
      " [104.99347792 535.09492432]\n",
      " [331.54951642 138.66830778]\n",
      " [935.17844949 783.56600025]\n",
      " [297.73548389 561.78326217]\n",
      " [799.87745131 119.01887523]\n",
      " [ 18.79068378 980.07672041]\n",
      " [438.28040149 300.25767234]\n",
      " [376.6056487  398.38376699]\n",
      " [277.07837704 873.50010998]\n",
      " [863.85702953 188.82901364]\n",
      " [106.99812303 713.98112809]\n",
      " [305.92992312 491.8880064 ]\n",
      " [639.0654516  621.83301324]\n",
      " [ 62.66404608 522.28844599]\n",
      " [577.98265542 596.73244222]\n",
      " [858.55709105 236.36605089]\n",
      " [322.52745385 820.25167008]\n",
      " [ 45.20161312 922.48538038]\n",
      " [713.31425945 361.35243244]\n",
      " [269.65256349  58.50337264]\n",
      " [930.86276803 893.8216249 ]\n",
      " [ 57.30513737 736.36626324]\n",
      " [775.41227095 683.27511794]\n",
      " [520.37364612 830.39774938]\n",
      " [295.6609254  248.53339051]\n",
      " [481.02109773 677.56076029]\n",
      " [ 34.86798753 341.7348281 ]\n",
      " [522.40090871 833.24660611]\n",
      " [268.7660282  449.30700848]\n",
      " [153.85319635 816.4789783 ]\n",
      " [540.84077724 288.50821525]\n",
      " [339.64036787 250.35068312]\n",
      " [497.43711715 206.94808869]\n",
      " [ 59.89296452 328.04496434]\n",
      " [162.24391446 882.64747851]\n",
      " [752.90398379 892.72936213]\n",
      " [679.36392855 718.19629358]\n",
      " [ 66.05918012 868.38368002]\n",
      " [ 10.87530976 947.15524779]\n",
      " [378.20771308 408.18501297]\n",
      " [809.77090927 322.17892086]\n",
      " [581.63317053 903.93925568]\n",
      " [ 10.49210923 735.32008658]\n",
      " [139.28382161 626.4392171 ]\n",
      " [799.49550403 741.80597855]\n",
      " [954.66752853 156.3804194 ]\n",
      " [810.74654567 380.30139536]\n",
      " [142.20628374  70.04027398]\n",
      " [ 77.52190446 893.97937044]\n",
      " [757.14395266 994.12959642]\n",
      " [867.54992615 176.87753355]\n",
      " [174.38495785 177.16179661]\n",
      " [682.43234202 198.62539353]\n",
      " [658.95946718 426.41507886]\n",
      " [432.03744865  38.01068638]\n",
      " [563.53066204 657.29496211]\n",
      " [ 86.20757388 714.10522637]\n",
      " [775.04943173 332.57511184]\n",
      " [227.03830741 790.66731022]\n",
      " [351.27652763 905.17174587]\n",
      " [233.39692462 504.55536946]\n",
      " [706.85567198 479.44347121]\n",
      " [446.48528421 884.02174475]\n",
      " [830.18773903 510.65917472]\n",
      " [488.30509853  25.27227795]\n",
      " [228.88232807 903.34446161]\n",
      " [838.18097905 197.89297331]\n",
      " [ 23.54861705 239.54449089]\n",
      " [697.28388114 306.43629532]\n",
      " [783.06903398 641.30404497]\n",
      " [ 89.37724225 160.36988651]\n",
      " [321.40373327 109.65698417]\n",
      " [910.08817488 831.8450592 ]\n",
      " [290.8616293  205.61289309]\n",
      " [852.70518314  68.89100078]\n",
      " [  6.87252536 843.66437502]\n",
      " [341.40072474 869.69898618]\n",
      " [ 87.75199281 750.5890389 ]\n",
      " [798.3700032   76.70253969]\n",
      " [865.3597628  674.89216675]]\n",
      "Generation 0: 48495.008797530914\n",
      "Generation 100: 31351.36937398622\n",
      "Generation 200: 27873.790522739415\n",
      "Generation 300: 26536.906913595445\n",
      "Generation 400: 24885.49887910022\n",
      "Generation 500: 22924.5567012092\n",
      "Generation 600: 19389.379551253907\n",
      "Generation 700: 19054.45248243114\n",
      "Generation 800: 18699.620075739687\n",
      "Generation 900: 17774.197154262878\n"
     ]
    },
    {
     "data": {
      "image/png": "[encoded data removed]",
      "text/plain": [
       "<Figure size 640x480 with 1 Axes>"
      ]
     },
     "metadata": {},
     "output_type": "display_data"
    },
    {
     "name": "stdout",
     "output_type": "stream",
     "text": [
      "[74, 84, 50, 72, 38, 99, 55, 64, 89, 18, 65, 70, 86, 88, 10, 3, 5, 35, 60, 14, 94, 29, 71, 87, 46, 53, 15, 39, 26, 44, 93, 51, 31, 37, 58, 25, 68, 62, 33, 11, 67, 21, 91, 52, 6, 66, 83, 22, 69, 61, 47, 82, 79, 7, 28, 78, 36, 96, 2, 13, 34, 40, 92, 8, 9, 42, 16, 43, 54, 19, 85, 45, 73, 0, 77, 81, 4, 97, 30, 41, 76, 95, 57, 49, 23, 80, 48, 98, 24, 56, 17, 32, 75, 1, 63, 20, 12, 59, 27, 90]\n"
     ]
    }
   ],
   "source": [
    "cities = range(100)\n",
    "city_coordinates = generate_cities(len(cities))\n",
    "print(city_coordinates)\n",
    "adjacency_mat = make_mat(city_coordinates)\n",
    "best, history = genetic_algorithm(cities, adjacency_mat, n_population=20, n_iter=1000, verbose=False, return_history=True)\n",
    "\n",
    "plt.plot(range(len(history)), history, color=\"skyblue\")\n",
    "plt.show()\n",
    "print(best)\n"
   ]
  }
 ],
 "metadata": {
  "kernelspec": {
   "display_name": "test",
   "language": "python",
   "name": "python3"
  },
  "language_info": {
   "codemirror_mode": {
    "name": "ipython",
    "version": 3
   },
   "file_extension": ".py",
   "mimetype": "text/x-python",
   "name": "python",
   "nbconvert_exporter": "python",
   "pygments_lexer": "ipython3",
   "version": "3.10.6"
  },
  "orig_nbformat": 4,
  "vscode": {
   "interpreter": {
    "hash": "030bb7f84c0ecd7058091c295d3ecd7aea35bd3482dc5cfe50df7fa38f6b3655"
   }
  }
 },
 "nbformat": 4,
 "nbformat_minor": 2
}
