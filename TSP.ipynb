{
 "cells": [
  {
   "cell_type": "code",
   "execution_count": null,
   "metadata": {},
   "outputs": [],
   "source": [
    "from sys import maxsize\n",
    "from itertools import permutations\n",
    "import pandas as pd\n",
    "V = 4\n"
   ]
  },
  {
   "cell_type": "code",
   "execution_count": 55,
   "metadata": {},
   "outputs": [
    {
     "name": "stdout",
     "output_type": "stream",
     "text": [
      "         x       y\n",
      "0    565.0   575.0\n",
      "1     25.0   185.0\n",
      "2    345.0   750.0\n",
      "3    945.0   685.0\n",
      "4    845.0   655.0\n",
      "5    880.0   660.0\n",
      "6     25.0   230.0\n",
      "7    525.0  1000.0\n",
      "8    580.0  1175.0\n",
      "9    650.0  1130.0\n",
      "10  1605.0   620.0\n",
      "11  1220.0   580.0\n",
      "12  1465.0   200.0\n",
      "13  1530.0     5.0\n",
      "14   845.0   680.0\n",
      "15   725.0   370.0\n",
      "16   145.0   665.0\n",
      "17   415.0   635.0\n",
      "18   510.0   875.0\n",
      "19   560.0   365.0\n",
      "20   300.0   465.0\n",
      "21   520.0   585.0\n",
      "22   480.0   415.0\n",
      "23   835.0   625.0\n",
      "24   975.0   580.0\n",
      "25  1215.0   245.0\n",
      "26  1320.0   315.0\n",
      "27  1250.0   400.0\n",
      "28   660.0   180.0\n",
      "29   410.0   250.0\n",
      "30   420.0   555.0\n",
      "31   575.0   665.0\n",
      "32  1150.0  1160.0\n",
      "33   700.0   580.0\n",
      "34   685.0   595.0\n",
      "35   685.0   610.0\n",
      "36   770.0   610.0\n",
      "37   795.0   645.0\n",
      "38   720.0   635.0\n",
      "39   760.0   650.0\n",
      "40   475.0   960.0\n",
      "41    95.0   260.0\n",
      "42   875.0   920.0\n",
      "43   700.0   500.0\n",
      "44   555.0   815.0\n",
      "45   830.0   485.0\n",
      "46  1170.0    65.0\n",
      "47   830.0   610.0\n",
      "48   605.0   625.0\n",
      "49   595.0   360.0\n",
      "50  1340.0   725.0\n",
      "51  1740.0   245.0\n",
      "52     NaN     NaN\n",
      "[[565.0, 575.0], [25.0, 185.0], [345.0, 750.0], [945.0, 685.0], [845.0, 655.0], [880.0, 660.0], [25.0, 230.0], [525.0, 1000.0], [580.0, 1175.0], [650.0, 1130.0], [1605.0, 620.0], [1220.0, 580.0], [1465.0, 200.0], [1530.0, 5.0], [845.0, 680.0], [725.0, 370.0], [145.0, 665.0], [415.0, 635.0], [510.0, 875.0], [560.0, 365.0], [300.0, 465.0], [520.0, 585.0], [480.0, 415.0], [835.0, 625.0], [975.0, 580.0], [1215.0, 245.0], [1320.0, 315.0], [1250.0, 400.0], [660.0, 180.0], [410.0, 250.0], [420.0, 555.0], [575.0, 665.0], [1150.0, 1160.0], [700.0, 580.0], [685.0, 595.0], [685.0, 610.0], [770.0, 610.0], [795.0, 645.0], [720.0, 635.0], [760.0, 650.0], [475.0, 960.0], [95.0, 260.0], [875.0, 920.0], [700.0, 500.0], [555.0, 815.0], [830.0, 485.0], [1170.0, 65.0], [830.0, 610.0], [605.0, 625.0], [595.0, 360.0], [1340.0, 725.0], [1740.0, 245.0], [nan, nan]]\n",
      "53\n"
     ]
    }
   ],
   "source": [
    "#---------------------------------------------------------------------------------------------------------------- DATA MANAGEMENT ---------------------------------------------------------------------------------------------------------------------------------------\n",
    "\n",
    "colnames = ['City Index', 'x', 'y']\n",
    "\n",
    "df = pd.read_csv('berlin52.tsp', skiprows = 6, delimiter=r'\\s+', names = colnames, usecols=['x','y']) #! Seperates the columns by identifying the spaces\n",
    "\n",
    "print(df)\n",
    "\n",
    "dataframe_to_list = df.values.tolist()\n",
    "\n",
    "print(dataframe_to_list)\n",
    "\n",
    "V = len(df) #Stores the number of vertices \n",
    "\n",
    "print(V)"
   ]
  },
  {
   "cell_type": "code",
   "execution_count": null,
   "metadata": {},
   "outputs": [],
   "source": [
    "#Defining the function which will be a solution to the travelling salesman problem (TSP)\n",
    "def TSP(graph, s):\n",
    "\n",
    "    #Stores all the vertex apart from the source vertex\n",
    "    vertex = []\n",
    "    for i in range(V):\n",
    "        if i != s:\n",
    "            vertex.append(i)\n",
    "    \n",
    "\n",
    "    min_path = maxsize\n",
    "    next_permutation = permutations(vertex)\n",
    "    for i in next_permutation:\n",
    "\n",
    "        current_pathweight = 0\n",
    "\n",
    "        k = s\n",
    "        for j in i:\n",
    "            current_pathweight += graph[k][j]\n",
    "            k = j\n",
    "        current_pathweight += graph[k][s]\n",
    "\n",
    "    min_path = min(min_path, current_pathweight)\n",
    "\n",
    "    return min_path"
   ]
  },
  {
   "cell_type": "code",
   "execution_count": null,
   "metadata": {},
   "outputs": [],
   "source": [
    "if __name__ == \"__main__\":\n",
    "\n",
    "    graph = df\n",
    "    s = 0\n",
    "\n",
    "    print(TSP(graph, s))"
   ]
  }
 ],
 "metadata": {
  "kernelspec": {
   "display_name": "test",
   "language": "python",
   "name": "python3"
  },
  "language_info": {
   "codemirror_mode": {
    "name": "ipython",
    "version": 3
   },
   "file_extension": ".py",
   "mimetype": "text/x-python",
   "name": "python",
   "nbconvert_exporter": "python",
   "pygments_lexer": "ipython3",
   "version": "3.10.6"
  },
  "orig_nbformat": 4,
  "vscode": {
   "interpreter": {
    "hash": "030bb7f84c0ecd7058091c295d3ecd7aea35bd3482dc5cfe50df7fa38f6b3655"
   }
  }
 },
 "nbformat": 4,
 "nbformat_minor": 2
}
