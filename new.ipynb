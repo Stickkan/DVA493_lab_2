{
 "cells": [
  {
   "cell_type": "code",
   "execution_count": 14,
   "metadata": {},
   "outputs": [],
   "source": [
    "import numpy as np\n",
    "import matplotlib.pyplot as plt\n",
    "import pandas as pd\n",
    "import random\n",
    "%matplotlib inline\n",
    "%config InlineBackend.figure_format = 'svg'\n",
    "plt.style.use(\"seaborn\")\n",
    "np.random.seed(42)\n"
   ]
  },
  {
   "cell_type": "code",
   "execution_count": 15,
   "metadata": {},
   "outputs": [],
   "source": [
    "class Population():\n",
    "    def __init__(self, bag, adjacency_mat):\n",
    "        self.bag = bag\n",
    "        self.parents = []\n",
    "        self.score = 0\n",
    "        self.best = None\n",
    "        self.adjacency_mat = adjacency_mat\n",
    "\n",
    "\n",
    "def init_population(cities, adjacency_mat, n_population):\n",
    "    return Population(np.asarray([np.random.permutation(cities) for _ in range(n_population)]), adjacency_mat)\n",
    "\n",
    "\n",
    "def fitness(self, chromosome):\n",
    "    return sum([self.adjacency_mat[chromosome[i], chromosome[i + 1]] for i in range(len(chromosome)-1)])\n",
    "\n",
    "Population.fitness = fitness\n",
    "\n",
    "#Returns vector of probabilities that chromosome i will be chosen\n",
    "def evaluate(self):\n",
    "    distances = np.asarray([self.fitness(chromosome) for chromosome in self.bag])\n",
    "    self.score = np.min(distances)\n",
    "    #Puts the smallest distance as best from bag/whole population\n",
    "    self.best = self.bag[distances.tolist().index(self.score)]\n",
    "    #Appends the best chromosome to list of parents\n",
    "    self.parents.append(self.best)\n",
    "    #If the element is the worst one, make sure it has no probability of getting chosen\n",
    "    if False in (distances[0] == distances):\n",
    "        distances = np.max(distances) - distances\n",
    "    #Creates a probability by dividing each element with the sum of element, making the total probability 1\n",
    "    return distances / np.sum(distances)\n",
    "    \n",
    "Population.evaluate = evaluate\n",
    "\n",
    "\n",
    "def select(self, k):\n",
    "    #Probability vector\n",
    "    fit = self.evaluate()\n",
    "    #Picks k amount of parents\n",
    "    while len(self.parents) < k:\n",
    "        #Picks random number from length of fit\n",
    "        idx = np.random.randint(0, len(fit))\n",
    "        #Makes sure that the fit scores that are higher have a higher chance of getting chosen\n",
    "        #If index of fit is bigger than number 0-1 it gets picked as parent\n",
    "        if fit[idx] > np.random.rand():\n",
    "            self.parents.append(self.bag[idx])\n",
    "    #Parent array\n",
    "    self.parents = np.asarray(self.parents)\n",
    "\n",
    "Population.select = select\n",
    "\n",
    "\n",
    "def swap(chromosome):\n",
    "    #Returns 2 elements from chromosome to swap\n",
    "    a, b = np.random.choice(len(chromosome), 2)\n",
    "    chromosome[a], chromosome[b] = (chromosome[b], chromosome[a])\n",
    "    return chromosome\n",
    "\n",
    "def crossover(self, p_cross):\n",
    "    children = []\n",
    "    count, size = self.parents.shape\n",
    "    #Loops through the population\n",
    "    for _ in range(len(self.bag)):\n",
    "        #If number is bigger than pcross we put the c\n",
    "        if np.random.rand() > p_cross:\n",
    "            children.append(\n",
    "                list(self.parents[np.random.randint(count, size=1)[0]])\n",
    "            )\n",
    "        else:\n",
    "            #Chose two random parents to make the child\n",
    "            parent1, parent2 = self.parents[\n",
    "                np.random.randint(count, size=2), :\n",
    "            ]\n",
    "            #Slices elements of one parent, and fills it with the elements of the other parent\n",
    "            #creates a list of two random integers in range size\n",
    "            idx = np.random.choice(range(size), size=2, replace=False)\n",
    "            #Picks the starting and ending index of the array to fill from first parent\n",
    "            start, end = min(idx), max(idx)\n",
    "            #Creates empty list of size size \n",
    "            child = [None] * size\n",
    "            #Fills the child with the chromosomes of the first parent between index start and end\n",
    "            for i in range(start, end + 1, 1):\n",
    "                child[i] = parent1[i]\n",
    "            pointer = 0\n",
    "            for i in range(size):\n",
    "                #Fills the child with the rest of the indeces from the second parent\n",
    "                if child[i] is None:\n",
    "                    while parent2[pointer] in child:\n",
    "                        pointer += 1\n",
    "                    child[i] = parent2[pointer]\n",
    "\n",
    "            children.append(child)\n",
    "    return children\n",
    "\n",
    "Population.crossover = crossover\n",
    "\n",
    "\n",
    "def mutate(self, p_cross, p_mut):\n",
    "    next_bag = []\n",
    "    #Crossover children\n",
    "    children = self.crossover(p_cross)\n",
    "    #Loop through the children, if the random number is smaller than the probability of mutation rate, the child is mutated\n",
    "    for child in children:\n",
    "        if np.random.rand() < p_mut:\n",
    "            #Switches out the child in the list of childs\n",
    "            next_bag.append(swap(child))\n",
    "        else:\n",
    "            #Keeps the old child\n",
    "            next_bag.append(child)\n",
    "    return next_bag\n",
    "    \n",
    "Population.mutate = mutate\n",
    "\n",
    "def genetic_algorithm(cities, adjacency_mat, n_population, n_iter, selectivity=0.10, p_cross=0.5, p_mut=0.12, print_interval=100, return_history=False, verbose=False):\n",
    "    pop = init_population(cities, adjacency_mat, n_population)\n",
    "    best = pop.best\n",
    "    score = float(\"inf\")\n",
    "    history = []\n",
    "    for i in range(n_iter):\n",
    "        if score <= 8000:\n",
    "            print(f\"Generation {i}: {score}\")\n",
    "            break\n",
    "        #Selects a subset of population for picking parents\n",
    "        pop.select(n_population * selectivity)\n",
    "        #History for tracking progress\n",
    "        history.append(pop.score)\n",
    "        if verbose:\n",
    "            print(f\"Generation {i}: {pop.score}\")\n",
    "        elif i % print_interval == 0:\n",
    "            print(f\"Generation {i}: {pop.score}\")\n",
    "        #Set populations score to the best if it beats another population\n",
    "        if pop.score < score:\n",
    "            best = pop.best\n",
    "            score = pop.score\n",
    "        #mutates children\n",
    "        children = pop.mutate(p_cross, p_mut)\n",
    "        pop = Population(children, pop.adjacency_mat)\n",
    "    if return_history:\n",
    "        return best, history\n",
    "    return best\n",
    "\n",
    "def make_mat(coordinates):\n",
    "    res = [[get_distance(city1, city2) for city2 in coordinates] for city1 in coordinates]\n",
    "    return np.asarray(res)\n",
    "\n",
    "def get_distance(city1, city2):\n",
    "    return np.sqrt((city1[0] - city2[0])**2 + (city1[1] - city2[1])**2)\n",
    "\n",
    "\n"
   ]
  },
  {
   "cell_type": "code",
   "execution_count": 16,
   "metadata": {},
   "outputs": [
    {
     "name": "stdout",
     "output_type": "stream",
     "text": [
      "[None, None, None, None]\n"
     ]
    }
   ],
   "source": [
    "child = [None] *4\n",
    "print(child)"
   ]
  },
  {
   "cell_type": "code",
   "execution_count": 17,
   "metadata": {},
   "outputs": [
    {
     "name": "stdout",
     "output_type": "stream",
     "text": [
      "<class 'pandas.core.frame.DataFrame'>\n",
      "Generation 0: 24729.711275632304\n"
     ]
    },
    {
     "name": "stderr",
     "output_type": "stream",
     "text": [
      "C:\\Users\\vp96\\AppData\\Local\\Temp\\ipykernel_37828\\135240709.py:3: ParserWarning: Falling back to the 'python' engine because the 'c' engine does not support skipfooter; you can avoid this warning by specifying engine='python'.\n",
      "  df = pd.read_csv('berlin52.tsp', skiprows = 6, delimiter=r'\\s+', names = col_names, usecols=['x','y'], skipfooter=2) #! Seperates the columns by identifying the spaces\n"
     ]
    },
    {
     "name": "stdout",
     "output_type": "stream",
     "text": [
      "Generation 100: 14401.596272669061\n",
      "Generation 200: 12240.969891802393\n",
      "Generation 300: 10406.824469930503\n",
      "Generation 400: 9186.302938722243\n",
      "Generation 500: 9060.949756085018\n",
      "Generation 600: 8715.73803118414\n",
      "Generation 700: 8545.607355180357\n",
      "Generation 800: 8185.741312366865\n",
      "Generation 900: 8087.125337998147\n",
      "Generation 978: 7982.558171853732\n"
     ]
    },
    {
     "data": {
      "image/svg+xml": "<?xml version=\"1.0\" encoding=\"utf-8\" standalone=\"no\"?>\n<!DOCTYPE svg PUBLIC \"-//W3C//DTD SVG 1.1//EN\"\n  \"http://www.w3.org/Graphics/SVG/1.1/DTD/svg11.dtd\">\n<svg xmlns:xlink=\"http://www.w3.org/1999/xlink\" width=\"495.989203pt\" height=\"335.465312pt\" viewBox=\"0 0 495.989203 335.465312\" xmlns=\"http://www.w3.org/2000/svg\" version=\"1.1\">\n <metadata>\n  <rdf:RDF xmlns:dc=\"http://purl.org/dc/elements/1.1/\" xmlns:cc=\"http://creativecommons.org/ns#\" xmlns:rdf=\"http://www.w3.org/1999/02/22-rdf-syntax-ns#\">\n   <cc:Work>\n    <dc:type rdf:resource=\"http://purl.org/dc/dcmitype/StillImage\"/>\n    <dc:date>2022-12-22T15:41:18.470380</dc:date>\n    <dc:format>image/svg+xml</dc:format>\n    <dc:creator>\n     <cc:Agent>\n      <dc:title>Matplotlib v3.5.2, https://matplotlib.org/</dc:title>\n     </cc:Agent>\n    </dc:creator>\n   </cc:Work>\n  </rdf:RDF>\n </metadata>\n <defs>\n  <style type=\"text/css\">*{stroke-linejoin: round; stroke-linecap: butt}</style>\n </defs>\n <g id=\"figure_1\">\n  <g id=\"patch_1\">\n   <path d=\"M 0 335.465312 \nL 495.989203 335.465312 \nL 495.989203 0 \nL 0 0 \nz\n\" style=\"fill: #ffffff\"/>\n  </g>\n  <g id=\"axes_1\">\n   <g id=\"patch_2\">\n    <path d=\"M 42.004688 312.12 \nL 488.404687 312.12 \nL 488.404687 7.2 \nL 42.004688 7.2 \nz\n\" style=\"fill: #eaeaf2\"/>\n   </g>\n   <g id=\"matplotlib.axis_1\">\n    <g id=\"xtick_1\">\n     <g id=\"line2d_1\">\n      <path d=\"M 62.295597 312.12 \nL 62.295597 7.2 \n\" clip-path=\"url(#pc4ca3e470f)\" style=\"fill: none; stroke: #ffffff; stroke-linecap: round\"/>\n     </g>\n     <g id=\"line2d_2\"/>\n     <g id=\"text_1\">\n      <!-- 0 -->\n      <g style=\"fill: #262626\" transform=\"translate(59.515128 326.277812)scale(0.1 -0.1)\">\n       <defs>\n        <path id=\"ArialMT-30\" d=\"M 266 2259 \nQ 266 3072 433 3567 \nQ 600 4063 929 4331 \nQ 1259 4600 1759 4600 \nQ 2128 4600 2406 4451 \nQ 2684 4303 2865 4023 \nQ 3047 3744 3150 3342 \nQ 3253 2941 3253 2259 \nQ 3253 1453 3087 958 \nQ 2922 463 2592 192 \nQ 2263 -78 1759 -78 \nQ 1097 -78 719 397 \nQ 266 969 266 2259 \nz\nM 844 2259 \nQ 844 1131 1108 757 \nQ 1372 384 1759 384 \nQ 2147 384 2411 759 \nQ 2675 1134 2675 2259 \nQ 2675 3391 2411 3762 \nQ 2147 4134 1753 4134 \nQ 1366 4134 1134 3806 \nQ 844 3388 844 2259 \nz\n\" transform=\"scale(0.015625)\"/>\n       </defs>\n       <use xlink:href=\"#ArialMT-30\"/>\n      </g>\n     </g>\n    </g>\n    <g id=\"xtick_2\">\n     <g id=\"line2d_3\">\n      <path d=\"M 145.369943 312.12 \nL 145.369943 7.2 \n\" clip-path=\"url(#pc4ca3e470f)\" style=\"fill: none; stroke: #ffffff; stroke-linecap: round\"/>\n     </g>\n     <g id=\"line2d_4\"/>\n     <g id=\"text_2\">\n      <!-- 200 -->\n      <g style=\"fill: #262626\" transform=\"translate(137.028537 326.277812)scale(0.1 -0.1)\">\n       <defs>\n        <path id=\"ArialMT-32\" d=\"M 3222 541 \nL 3222 0 \nL 194 0 \nQ 188 203 259 391 \nQ 375 700 629 1000 \nQ 884 1300 1366 1694 \nQ 2113 2306 2375 2664 \nQ 2638 3022 2638 3341 \nQ 2638 3675 2398 3904 \nQ 2159 4134 1775 4134 \nQ 1369 4134 1125 3890 \nQ 881 3647 878 3216 \nL 300 3275 \nQ 359 3922 746 4261 \nQ 1134 4600 1788 4600 \nQ 2447 4600 2831 4234 \nQ 3216 3869 3216 3328 \nQ 3216 3053 3103 2787 \nQ 2991 2522 2730 2228 \nQ 2469 1934 1863 1422 \nQ 1356 997 1212 845 \nQ 1069 694 975 541 \nL 3222 541 \nz\n\" transform=\"scale(0.015625)\"/>\n       </defs>\n       <use xlink:href=\"#ArialMT-32\"/>\n       <use xlink:href=\"#ArialMT-30\" x=\"55.615234\"/>\n       <use xlink:href=\"#ArialMT-30\" x=\"111.230469\"/>\n      </g>\n     </g>\n    </g>\n    <g id=\"xtick_3\">\n     <g id=\"line2d_5\">\n      <path d=\"M 228.444289 312.12 \nL 228.444289 7.2 \n\" clip-path=\"url(#pc4ca3e470f)\" style=\"fill: none; stroke: #ffffff; stroke-linecap: round\"/>\n     </g>\n     <g id=\"line2d_6\"/>\n     <g id=\"text_3\">\n      <!-- 400 -->\n      <g style=\"fill: #262626\" transform=\"translate(220.102883 326.277812)scale(0.1 -0.1)\">\n       <defs>\n        <path id=\"ArialMT-34\" d=\"M 2069 0 \nL 2069 1097 \nL 81 1097 \nL 81 1613 \nL 2172 4581 \nL 2631 4581 \nL 2631 1613 \nL 3250 1613 \nL 3250 1097 \nL 2631 1097 \nL 2631 0 \nL 2069 0 \nz\nM 2069 1613 \nL 2069 3678 \nL 634 1613 \nL 2069 1613 \nz\n\" transform=\"scale(0.015625)\"/>\n       </defs>\n       <use xlink:href=\"#ArialMT-34\"/>\n       <use xlink:href=\"#ArialMT-30\" x=\"55.615234\"/>\n       <use xlink:href=\"#ArialMT-30\" x=\"111.230469\"/>\n      </g>\n     </g>\n    </g>\n    <g id=\"xtick_4\">\n     <g id=\"line2d_7\">\n      <path d=\"M 311.518636 312.12 \nL 311.518636 7.2 \n\" clip-path=\"url(#pc4ca3e470f)\" style=\"fill: none; stroke: #ffffff; stroke-linecap: round\"/>\n     </g>\n     <g id=\"line2d_8\"/>\n     <g id=\"text_4\">\n      <!-- 600 -->\n      <g style=\"fill: #262626\" transform=\"translate(303.177229 326.277812)scale(0.1 -0.1)\">\n       <defs>\n        <path id=\"ArialMT-36\" d=\"M 3184 3459 \nL 2625 3416 \nQ 2550 3747 2413 3897 \nQ 2184 4138 1850 4138 \nQ 1581 4138 1378 3988 \nQ 1113 3794 959 3422 \nQ 806 3050 800 2363 \nQ 1003 2672 1297 2822 \nQ 1591 2972 1913 2972 \nQ 2475 2972 2870 2558 \nQ 3266 2144 3266 1488 \nQ 3266 1056 3080 686 \nQ 2894 316 2569 119 \nQ 2244 -78 1831 -78 \nQ 1128 -78 684 439 \nQ 241 956 241 2144 \nQ 241 3472 731 4075 \nQ 1159 4600 1884 4600 \nQ 2425 4600 2770 4297 \nQ 3116 3994 3184 3459 \nz\nM 888 1484 \nQ 888 1194 1011 928 \nQ 1134 663 1356 523 \nQ 1578 384 1822 384 \nQ 2178 384 2434 671 \nQ 2691 959 2691 1453 \nQ 2691 1928 2437 2201 \nQ 2184 2475 1800 2475 \nQ 1419 2475 1153 2201 \nQ 888 1928 888 1484 \nz\n\" transform=\"scale(0.015625)\"/>\n       </defs>\n       <use xlink:href=\"#ArialMT-36\"/>\n       <use xlink:href=\"#ArialMT-30\" x=\"55.615234\"/>\n       <use xlink:href=\"#ArialMT-30\" x=\"111.230469\"/>\n      </g>\n     </g>\n    </g>\n    <g id=\"xtick_5\">\n     <g id=\"line2d_9\">\n      <path d=\"M 394.592982 312.12 \nL 394.592982 7.2 \n\" clip-path=\"url(#pc4ca3e470f)\" style=\"fill: none; stroke: #ffffff; stroke-linecap: round\"/>\n     </g>\n     <g id=\"line2d_10\"/>\n     <g id=\"text_5\">\n      <!-- 800 -->\n      <g style=\"fill: #262626\" transform=\"translate(386.251576 326.277812)scale(0.1 -0.1)\">\n       <defs>\n        <path id=\"ArialMT-38\" d=\"M 1131 2484 \nQ 781 2613 612 2850 \nQ 444 3088 444 3419 \nQ 444 3919 803 4259 \nQ 1163 4600 1759 4600 \nQ 2359 4600 2725 4251 \nQ 3091 3903 3091 3403 \nQ 3091 3084 2923 2848 \nQ 2756 2613 2416 2484 \nQ 2838 2347 3058 2040 \nQ 3278 1734 3278 1309 \nQ 3278 722 2862 322 \nQ 2447 -78 1769 -78 \nQ 1091 -78 675 323 \nQ 259 725 259 1325 \nQ 259 1772 486 2073 \nQ 713 2375 1131 2484 \nz\nM 1019 3438 \nQ 1019 3113 1228 2906 \nQ 1438 2700 1772 2700 \nQ 2097 2700 2305 2904 \nQ 2513 3109 2513 3406 \nQ 2513 3716 2298 3927 \nQ 2084 4138 1766 4138 \nQ 1444 4138 1231 3931 \nQ 1019 3725 1019 3438 \nz\nM 838 1322 \nQ 838 1081 952 856 \nQ 1066 631 1291 507 \nQ 1516 384 1775 384 \nQ 2178 384 2440 643 \nQ 2703 903 2703 1303 \nQ 2703 1709 2433 1975 \nQ 2163 2241 1756 2241 \nQ 1359 2241 1098 1978 \nQ 838 1716 838 1322 \nz\n\" transform=\"scale(0.015625)\"/>\n       </defs>\n       <use xlink:href=\"#ArialMT-38\"/>\n       <use xlink:href=\"#ArialMT-30\" x=\"55.615234\"/>\n       <use xlink:href=\"#ArialMT-30\" x=\"111.230469\"/>\n      </g>\n     </g>\n    </g>\n    <g id=\"xtick_6\">\n     <g id=\"line2d_11\">\n      <path d=\"M 477.667328 312.12 \nL 477.667328 7.2 \n\" clip-path=\"url(#pc4ca3e470f)\" style=\"fill: none; stroke: #ffffff; stroke-linecap: round\"/>\n     </g>\n     <g id=\"line2d_12\"/>\n     <g id=\"text_6\">\n      <!-- 1000 -->\n      <g style=\"fill: #262626\" transform=\"translate(466.545453 326.277812)scale(0.1 -0.1)\">\n       <defs>\n        <path id=\"ArialMT-31\" d=\"M 2384 0 \nL 1822 0 \nL 1822 3584 \nQ 1619 3391 1289 3197 \nQ 959 3003 697 2906 \nL 697 3450 \nQ 1169 3672 1522 3987 \nQ 1875 4303 2022 4600 \nL 2384 4600 \nL 2384 0 \nz\n\" transform=\"scale(0.015625)\"/>\n       </defs>\n       <use xlink:href=\"#ArialMT-31\"/>\n       <use xlink:href=\"#ArialMT-30\" x=\"55.615234\"/>\n       <use xlink:href=\"#ArialMT-30\" x=\"111.230469\"/>\n       <use xlink:href=\"#ArialMT-30\" x=\"166.845703\"/>\n      </g>\n     </g>\n    </g>\n   </g>\n   <g id=\"matplotlib.axis_2\">\n    <g id=\"ytick_1\">\n     <g id=\"line2d_13\">\n      <path d=\"M 42.004688 306.247335 \nL 488.404687 306.247335 \n\" clip-path=\"url(#pc4ca3e470f)\" style=\"fill: none; stroke: #ffffff; stroke-linecap: round\"/>\n     </g>\n     <g id=\"line2d_14\"/>\n     <g id=\"text_7\">\n      <!-- 7500 -->\n      <g style=\"fill: #262626\" transform=\"translate(12.760938 309.826241)scale(0.1 -0.1)\">\n       <defs>\n        <path id=\"ArialMT-37\" d=\"M 303 3981 \nL 303 4522 \nL 3269 4522 \nL 3269 4084 \nQ 2831 3619 2401 2847 \nQ 1972 2075 1738 1259 \nQ 1569 684 1522 0 \nL 944 0 \nQ 953 541 1156 1306 \nQ 1359 2072 1739 2783 \nQ 2119 3494 2547 3981 \nL 303 3981 \nz\n\" transform=\"scale(0.015625)\"/>\n        <path id=\"ArialMT-35\" d=\"M 266 1200 \nL 856 1250 \nQ 922 819 1161 601 \nQ 1400 384 1738 384 \nQ 2144 384 2425 690 \nQ 2706 997 2706 1503 \nQ 2706 1984 2436 2262 \nQ 2166 2541 1728 2541 \nQ 1456 2541 1237 2417 \nQ 1019 2294 894 2097 \nL 366 2166 \nL 809 4519 \nL 3088 4519 \nL 3088 3981 \nL 1259 3981 \nL 1013 2750 \nQ 1425 3038 1878 3038 \nQ 2478 3038 2890 2622 \nQ 3303 2206 3303 1553 \nQ 3303 931 2941 478 \nQ 2500 -78 1738 -78 \nQ 1113 -78 717 272 \nQ 322 622 266 1200 \nz\n\" transform=\"scale(0.015625)\"/>\n       </defs>\n       <use xlink:href=\"#ArialMT-37\"/>\n       <use xlink:href=\"#ArialMT-35\" x=\"55.615234\"/>\n       <use xlink:href=\"#ArialMT-30\" x=\"111.230469\"/>\n       <use xlink:href=\"#ArialMT-30\" x=\"166.845703\"/>\n      </g>\n     </g>\n    </g>\n    <g id=\"ytick_2\">\n     <g id=\"line2d_15\">\n      <path d=\"M 42.004688 264.867168 \nL 488.404687 264.867168 \n\" clip-path=\"url(#pc4ca3e470f)\" style=\"fill: none; stroke: #ffffff; stroke-linecap: round\"/>\n     </g>\n     <g id=\"line2d_16\"/>\n     <g id=\"text_8\">\n      <!-- 10000 -->\n      <g style=\"fill: #262626\" transform=\"translate(7.2 268.446074)scale(0.1 -0.1)\">\n       <use xlink:href=\"#ArialMT-31\"/>\n       <use xlink:href=\"#ArialMT-30\" x=\"55.615234\"/>\n       <use xlink:href=\"#ArialMT-30\" x=\"111.230469\"/>\n       <use xlink:href=\"#ArialMT-30\" x=\"166.845703\"/>\n       <use xlink:href=\"#ArialMT-30\" x=\"222.460938\"/>\n      </g>\n     </g>\n    </g>\n    <g id=\"ytick_3\">\n     <g id=\"line2d_17\">\n      <path d=\"M 42.004688 223.487 \nL 488.404687 223.487 \n\" clip-path=\"url(#pc4ca3e470f)\" style=\"fill: none; stroke: #ffffff; stroke-linecap: round\"/>\n     </g>\n     <g id=\"line2d_18\"/>\n     <g id=\"text_9\">\n      <!-- 12500 -->\n      <g style=\"fill: #262626\" transform=\"translate(7.2 227.065907)scale(0.1 -0.1)\">\n       <use xlink:href=\"#ArialMT-31\"/>\n       <use xlink:href=\"#ArialMT-32\" x=\"55.615234\"/>\n       <use xlink:href=\"#ArialMT-35\" x=\"111.230469\"/>\n       <use xlink:href=\"#ArialMT-30\" x=\"166.845703\"/>\n       <use xlink:href=\"#ArialMT-30\" x=\"222.460938\"/>\n      </g>\n     </g>\n    </g>\n    <g id=\"ytick_4\">\n     <g id=\"line2d_19\">\n      <path d=\"M 42.004688 182.106833 \nL 488.404687 182.106833 \n\" clip-path=\"url(#pc4ca3e470f)\" style=\"fill: none; stroke: #ffffff; stroke-linecap: round\"/>\n     </g>\n     <g id=\"line2d_20\"/>\n     <g id=\"text_10\">\n      <!-- 15000 -->\n      <g style=\"fill: #262626\" transform=\"translate(7.2 185.685739)scale(0.1 -0.1)\">\n       <use xlink:href=\"#ArialMT-31\"/>\n       <use xlink:href=\"#ArialMT-35\" x=\"55.615234\"/>\n       <use xlink:href=\"#ArialMT-30\" x=\"111.230469\"/>\n       <use xlink:href=\"#ArialMT-30\" x=\"166.845703\"/>\n       <use xlink:href=\"#ArialMT-30\" x=\"222.460938\"/>\n      </g>\n     </g>\n    </g>\n    <g id=\"ytick_5\">\n     <g id=\"line2d_21\">\n      <path d=\"M 42.004688 140.726665 \nL 488.404687 140.726665 \n\" clip-path=\"url(#pc4ca3e470f)\" style=\"fill: none; stroke: #ffffff; stroke-linecap: round\"/>\n     </g>\n     <g id=\"line2d_22\"/>\n     <g id=\"text_11\">\n      <!-- 17500 -->\n      <g style=\"fill: #262626\" transform=\"translate(7.2 144.305572)scale(0.1 -0.1)\">\n       <use xlink:href=\"#ArialMT-31\"/>\n       <use xlink:href=\"#ArialMT-37\" x=\"55.615234\"/>\n       <use xlink:href=\"#ArialMT-35\" x=\"111.230469\"/>\n       <use xlink:href=\"#ArialMT-30\" x=\"166.845703\"/>\n       <use xlink:href=\"#ArialMT-30\" x=\"222.460938\"/>\n      </g>\n     </g>\n    </g>\n    <g id=\"ytick_6\">\n     <g id=\"line2d_23\">\n      <path d=\"M 42.004688 99.346498 \nL 488.404687 99.346498 \n\" clip-path=\"url(#pc4ca3e470f)\" style=\"fill: none; stroke: #ffffff; stroke-linecap: round\"/>\n     </g>\n     <g id=\"line2d_24\"/>\n     <g id=\"text_12\">\n      <!-- 20000 -->\n      <g style=\"fill: #262626\" transform=\"translate(7.2 102.925404)scale(0.1 -0.1)\">\n       <use xlink:href=\"#ArialMT-32\"/>\n       <use xlink:href=\"#ArialMT-30\" x=\"55.615234\"/>\n       <use xlink:href=\"#ArialMT-30\" x=\"111.230469\"/>\n       <use xlink:href=\"#ArialMT-30\" x=\"166.845703\"/>\n       <use xlink:href=\"#ArialMT-30\" x=\"222.460938\"/>\n      </g>\n     </g>\n    </g>\n    <g id=\"ytick_7\">\n     <g id=\"line2d_25\">\n      <path d=\"M 42.004688 57.96633 \nL 488.404687 57.96633 \n\" clip-path=\"url(#pc4ca3e470f)\" style=\"fill: none; stroke: #ffffff; stroke-linecap: round\"/>\n     </g>\n     <g id=\"line2d_26\"/>\n     <g id=\"text_13\">\n      <!-- 22500 -->\n      <g style=\"fill: #262626\" transform=\"translate(7.2 61.545237)scale(0.1 -0.1)\">\n       <use xlink:href=\"#ArialMT-32\"/>\n       <use xlink:href=\"#ArialMT-32\" x=\"55.615234\"/>\n       <use xlink:href=\"#ArialMT-35\" x=\"111.230469\"/>\n       <use xlink:href=\"#ArialMT-30\" x=\"166.845703\"/>\n       <use xlink:href=\"#ArialMT-30\" x=\"222.460938\"/>\n      </g>\n     </g>\n    </g>\n    <g id=\"ytick_8\">\n     <g id=\"line2d_27\">\n      <path d=\"M 42.004688 16.586163 \nL 488.404687 16.586163 \n\" clip-path=\"url(#pc4ca3e470f)\" style=\"fill: none; stroke: #ffffff; stroke-linecap: round\"/>\n     </g>\n     <g id=\"line2d_28\"/>\n     <g id=\"text_14\">\n      <!-- 25000 -->\n      <g style=\"fill: #262626\" transform=\"translate(7.2 20.165069)scale(0.1 -0.1)\">\n       <use xlink:href=\"#ArialMT-32\"/>\n       <use xlink:href=\"#ArialMT-35\" x=\"55.615234\"/>\n       <use xlink:href=\"#ArialMT-30\" x=\"111.230469\"/>\n       <use xlink:href=\"#ArialMT-30\" x=\"166.845703\"/>\n       <use xlink:href=\"#ArialMT-30\" x=\"222.460938\"/>\n      </g>\n     </g>\n    </g>\n   </g>\n   <g id=\"line2d_29\">\n    <path d=\"M 62.295597 21.06 \nL 62.710968 29.83497 \nL 63.12634 36.183277 \nL 63.541712 44.970435 \nL 64.372455 44.970435 \nL 65.203199 58.459788 \nL 65.61857 61.846517 \nL 66.033942 61.846517 \nL 66.449314 66.599999 \nL 67.280057 91.1393 \nL 68.110801 91.1393 \nL 68.526173 92.603334 \nL 68.941544 106.992988 \nL 69.772288 106.992988 \nL 70.187659 113.679551 \nL 70.603031 113.679551 \nL 71.018403 117.870451 \nL 71.849146 117.870451 \nL 72.67989 122.722425 \nL 73.095262 122.14443 \nL 73.510633 122.14443 \nL 73.926005 122.722425 \nL 74.341377 129.240412 \nL 75.587492 129.240412 \nL 76.002864 130.068442 \nL 76.418235 130.068442 \nL 76.833607 130.186688 \nL 77.248979 136.808329 \nL 77.664351 136.808329 \nL 78.079722 139.474916 \nL 78.495094 140.56596 \nL 80.156581 140.56596 \nL 80.571953 144.530192 \nL 81.402696 144.54377 \nL 81.818068 145.15925 \nL 82.648811 150.628542 \nL 83.064183 150.628542 \nL 83.479555 148.370691 \nL 83.894927 150.586022 \nL 84.310298 151.623732 \nL 84.72567 160.834918 \nL 85.141042 162.593629 \nL 85.556414 163.050248 \nL 85.971785 165.059011 \nL 86.387157 165.059011 \nL 86.802529 165.572879 \nL 87.2179 165.572879 \nL 87.633272 168.553113 \nL 88.048644 168.553113 \nL 88.464016 171.659117 \nL 90.540874 171.659117 \nL 90.956246 177.30521 \nL 91.371618 177.30521 \nL 91.78699 179.798955 \nL 92.202361 179.798955 \nL 92.617733 180.60869 \nL 95.109963 180.60869 \nL 95.525335 181.930131 \nL 95.940707 181.930131 \nL 96.356079 182.064509 \nL 96.77145 182.064509 \nL 97.186822 182.314495 \nL 97.602194 182.314495 \nL 98.017566 187.223416 \nL 98.848309 187.223416 \nL 99.263681 189.296447 \nL 101.340539 189.296447 \nL 101.755911 192.011651 \nL 103.83277 192.011651 \nL 104.248141 192.165835 \nL 107.155744 192.165835 \nL 107.571115 193.273013 \nL 108.817231 193.273013 \nL 109.232602 195.58427 \nL 110.063346 195.58427 \nL 110.478717 196.35386 \nL 111.724833 196.35386 \nL 112.140204 201.069916 \nL 112.970948 201.069916 \nL 113.38632 202.364357 \nL 113.801691 202.364357 \nL 114.217063 202.894227 \nL 115.87855 202.894227 \nL 116.293922 210.615912 \nL 117.540037 210.615912 \nL 117.955409 211.082915 \nL 118.786152 213.463859 \nL 121.278382 213.463859 \nL 121.693754 213.981417 \nL 122.109126 213.981417 \nL 122.524498 215.004078 \nL 123.770613 215.057218 \nL 124.185985 215.921928 \nL 125.016728 215.921928 \nL 125.4321 217.515287 \nL 126.678215 217.515287 \nL 127.093587 217.673201 \nL 128.755074 217.673201 \nL 129.170445 219.26656 \nL 129.585817 219.26656 \nL 130.001189 221.718669 \nL 130.831932 221.718669 \nL 131.247304 222.050839 \nL 131.662676 222.050839 \nL 132.078048 223.002033 \nL 133.324163 223.002033 \nL 133.739534 223.349466 \nL 135.816393 223.349466 \nL 136.231765 224.349423 \nL 137.062508 224.349423 \nL 137.47788 224.879293 \nL 137.893252 224.373783 \nL 138.723995 224.458638 \nL 139.139367 224.458638 \nL 139.554739 225.086678 \nL 142.046969 225.086678 \nL 142.462341 225.776318 \nL 144.123828 225.776318 \nL 144.539199 226.578324 \nL 144.954571 226.578324 \nL 145.369943 227.774484 \nL 146.200686 227.774484 \nL 146.616058 228.853705 \nL 147.03143 228.853705 \nL 147.446802 229.378936 \nL 147.862173 229.405993 \nL 148.277545 231.241401 \nL 148.692917 235.030147 \nL 151.185147 235.030147 \nL 151.600519 235.36864 \nL 152.015891 236.050088 \nL 152.431262 236.508545 \nL 153.262006 236.508545 \nL 153.677378 237.670364 \nL 154.092749 238.163654 \nL 154.508121 243.203492 \nL 154.923493 244.02423 \nL 157.000351 244.049406 \nL 157.415723 245.529421 \nL 157.831095 250.208139 \nL 160.323325 250.208139 \nL 160.738697 250.663953 \nL 161.984812 250.663953 \nL 162.400184 251.470655 \nL 167.384645 251.470655 \nL 167.800016 252.827123 \nL 168.215388 252.827123 \nL 168.63076 253.633826 \nL 170.292247 253.633826 \nL 170.707619 254.12931 \nL 171.12299 254.936013 \nL 173.615221 255.026345 \nL 174.030592 255.482159 \nL 183.16877 255.482159 \nL 183.584142 256.389098 \nL 184.414886 256.389098 \nL 185.245629 258.133382 \nL 187.73786 258.133382 \nL 188.153231 259.350339 \nL 188.568603 260.063677 \nL 189.399346 260.063677 \nL 189.814718 260.804069 \nL 192.306949 260.804069 \nL 192.72232 261.634419 \nL 198.952896 261.634419 \nL 199.368268 261.976593 \nL 200.199011 261.976593 \nL 200.614383 264.390332 \nL 207.675703 264.390332 \nL 208.091074 269.056875 \nL 208.506446 269.9265 \nL 209.752561 269.961304 \nL 210.167933 271.532046 \nL 216.813881 271.532046 \nL 217.229252 271.89997 \nL 220.136855 271.89997 \nL 220.552226 276.836845 \nL 220.967598 277.636113 \nL 223.8752 277.636113 \nL 224.290572 277.754279 \nL 226.367431 277.754279 \nL 226.782802 278.141691 \nL 228.028918 278.141691 \nL 228.859661 278.453702 \nL 233.013378 278.453702 \nL 233.42875 278.895066 \nL 233.844122 278.895066 \nL 234.259493 279.013232 \nL 240.905441 279.013232 \nL 241.320813 279.333577 \nL 245.059159 279.333577 \nL 245.47453 279.688469 \nL 253.366593 279.766415 \nL 253.781965 280.049014 \nL 260.427913 280.071327 \nL 260.843284 280.309185 \nL 278.288897 280.41039 \nL 279.950384 280.677741 \nL 287.011703 280.677741 \nL 287.427075 281.756803 \nL 290.750049 281.756803 \nL 291.165421 283.163379 \nL 296.149882 283.163379 \nL 296.565253 284.042009 \nL 296.980625 285.784306 \nL 305.28806 285.784306 \nL 305.703431 286.124358 \nL 319.82607 286.124358 \nL 320.241442 286.533747 \nL 328.133505 286.533747 \nL 328.548877 286.653497 \nL 328.964248 286.97128 \nL 331.041107 286.97128 \nL 331.456479 287.306953 \nL 343.502259 287.306953 \nL 343.917631 288.940372 \nL 354.301924 288.940372 \nL 354.717296 289.274083 \nL 361.363243 289.349336 \nL 362.193987 289.456739 \nL 362.609359 289.456739 \nL 363.02473 290.24792 \nL 374.655139 290.24792 \nL 375.070511 290.508961 \nL 383.377945 290.508961 \nL 383.793317 291.26853 \nL 384.208689 292.746844 \nL 387.116291 292.746844 \nL 387.531662 294.714242 \nL 392.931495 294.714242 \nL 393.346867 294.896899 \nL 398.331327 294.896899 \nL 398.746699 295.258432 \nL 425.33049 295.258432 \nL 425.745862 296.529197 \nL 467.698407 296.573406 \nL 468.113778 298.26 \nL 468.113778 298.26 \n\" clip-path=\"url(#pc4ca3e470f)\" style=\"fill: none; stroke: #87ceeb; stroke-width: 1.75; stroke-linecap: round\"/>\n   </g>\n   <g id=\"patch_3\">\n    <path d=\"M 42.004688 312.12 \nL 42.004688 7.2 \n\" style=\"fill: none\"/>\n   </g>\n   <g id=\"patch_4\">\n    <path d=\"M 488.404687 312.12 \nL 488.404687 7.2 \n\" style=\"fill: none\"/>\n   </g>\n   <g id=\"patch_5\">\n    <path d=\"M 42.004688 312.12 \nL 488.404688 312.12 \n\" style=\"fill: none\"/>\n   </g>\n   <g id=\"patch_6\">\n    <path d=\"M 42.004688 7.2 \nL 488.404688 7.2 \n\" style=\"fill: none\"/>\n   </g>\n  </g>\n </g>\n <defs>\n  <clipPath id=\"pc4ca3e470f\">\n   <rect x=\"42.004688\" y=\"7.2\" width=\"446.4\" height=\"304.92\"/>\n  </clipPath>\n </defs>\n</svg>\n",
      "text/plain": [
       "<Figure size 800x550 with 1 Axes>"
      ]
     },
     "metadata": {},
     "output_type": "display_data"
    }
   ],
   "source": [
    "col_names = ['City Index', 'x', 'y']\n",
    "\n",
    "df = pd.read_csv('berlin52.tsp', skiprows = 6, delimiter=r'\\s+', names = col_names, usecols=['x','y'], skipfooter=2) #! Seperates the columns by identifying the spaces\n",
    "\n",
    "print(type(df))\n",
    "\n",
    "city_coordinates = df.to_numpy()\n",
    "\n",
    "adjacency_mat = make_mat(city_coordinates)\n",
    "\n",
    "cities = range(len(city_coordinates))\n",
    "\n",
    "best, history = genetic_algorithm(cities, adjacency_mat, n_population=300, n_iter=1501, verbose=False, return_history=True)\n",
    "\n",
    "plt.plot(range(len(history)), history, color=\"skyblue\")\n",
    "plt.show()\n",
    "\n",
    "\n"
   ]
  }
 ],
 "metadata": {
  "kernelspec": {
   "display_name": "Python 3.9.13 ('base')",
   "language": "python",
   "name": "python3"
  },
  "language_info": {
   "codemirror_mode": {
    "name": "ipython",
    "version": 3
   },
   "file_extension": ".py",
   "mimetype": "text/x-python",
   "name": "python",
   "nbconvert_exporter": "python",
   "pygments_lexer": "ipython3",
   "version": "3.9.13"
  },
  "orig_nbformat": 4,
  "vscode": {
   "interpreter": {
    "hash": "6a45dcbcf0cc057c3a882a8405a5c629517c3b3fcada2a727a0c242a67246d8c"
   }
  }
 },
 "nbformat": 4,
 "nbformat_minor": 2
}
